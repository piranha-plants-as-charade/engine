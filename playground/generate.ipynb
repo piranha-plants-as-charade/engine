{
 "cells": [
  {
   "cell_type": "code",
   "execution_count": null,
   "metadata": {},
   "outputs": [],
   "source": [
    "import os\n",
    "\n",
    "try:\n",
    "    if CONFIGURED_DIRS:  # type: ignore\n",
    "        pass\n",
    "except:\n",
    "    PLAYGROUND_DIR = os.getcwd()\n",
    "    os.chdir(\"../src\")\n",
    "\n",
    "CONFIGURED_DIRS = True\n",
    "\n",
    "print(f\"Playground directory: {PLAYGROUND_DIR}\")  # type: ignore\n",
    "print(f\"Working directory: {os.getcwd()}\")"
   ]
  },
  {
   "cell_type": "code",
   "execution_count": null,
   "metadata": {},
   "outputs": [],
   "source": [
    "from IPython.display import Audio\n",
    "\n",
    "from main import generate"
   ]
  },
  {
   "cell_type": "code",
   "execution_count": null,
   "metadata": {},
   "outputs": [],
   "source": [
    "Audio(await generate(\"../playground/data/piranha_plant_musescore.wav\"))"
   ]
  },
  {
   "cell_type": "code",
   "execution_count": null,
   "metadata": {},
   "outputs": [],
   "source": [
    "Audio(await generate(\"../playground/data/zelda.wav\"))"
   ]
  },
  {
   "cell_type": "code",
   "execution_count": null,
   "metadata": {},
   "outputs": [],
   "source": [
    "Audio(await generate(\"../playground/data/mozart.wav\"))"
   ]
  },
  {
   "cell_type": "code",
   "execution_count": null,
   "metadata": {},
   "outputs": [],
   "source": [
    "Audio(await generate(\"../playground/data/cherokee.wav\"))"
   ]
  },
  {
   "cell_type": "code",
   "execution_count": null,
   "metadata": {},
   "outputs": [],
   "source": [
    "Audio(await generate(\"../playground/data/siiva.wav\"))"
   ]
  },
  {
   "cell_type": "code",
   "execution_count": null,
   "metadata": {},
   "outputs": [],
   "source": [
    "Audio(await generate(\"../playground/data/port_cobh.wav\"))"
   ]
  }
 ],
 "metadata": {
  "kernelspec": {
   "display_name": "piranha-plants-as-charade-PWJxIcuN-py3.11",
   "language": "python",
   "name": "python3"
  },
  "language_info": {
   "codemirror_mode": {
    "name": "ipython",
    "version": 3
   },
   "file_extension": ".py",
   "mimetype": "text/x-python",
   "name": "python",
   "nbconvert_exporter": "python",
   "pygments_lexer": "ipython3",
   "version": "3.11.11"
  }
 },
 "nbformat": 4,
 "nbformat_minor": 2
}
